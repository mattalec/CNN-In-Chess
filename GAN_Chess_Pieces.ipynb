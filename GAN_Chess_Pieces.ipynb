{
 "cells": [
  {
   "cell_type": "markdown",
   "metadata": {},
   "source": [
    "# PROJECT: GAN chess piece creation\n",
    "From my screenshot to FEN project (dataset: https://www.kaggle.com/koryakinp/chess-positions), I initially split the project into 2: \n",
    "- Piece detection.\n",
    "- Piece colour detection.\n",
    "\n",
    "In the end I went back to the base CNN and changed a few things which lead to the accuracy I was looking for.\n",
    "For the piece detection section, I used open-cvs canny edge detection algorithm to binorise the sqaure images of the pieces. Leaving lots of pretty piece edges. \n",
    "\n",
    "After not having to use them (even though they lead to great accuracy of piece prediction in a CNN) I didn't want them to go to waste. The idea of creating GAN generated pieces came to mind, with the edge dataset being perfect for this task.\n",
    "\n",
    "In this project, I get a generating CNN model that can create piece outlines that fool the discriminating CNN model."
   ]
  },
  {
   "cell_type": "markdown",
   "metadata": {},
   "source": [
    "## Loading libraries"
   ]
  },
  {
   "cell_type": "code",
   "execution_count": 5,
   "metadata": {
    "colab": {},
    "colab_type": "code",
    "id": "Q-4WUTNKqDSa"
   },
   "outputs": [],
   "source": [
    "import tensorflow as tf\n",
    "import matplotlib.pyplot as plt\n",
    "import numpy as np\n",
    "import pandas as pd\n",
    "import os\n",
    "import re\n",
    "from pathlib import Path\n",
    "from PIL import Image\n",
    "import cv2\n",
    "import time\n",
    "from IPython import display\n",
    "from PIL import Image"
   ]
  },
  {
   "cell_type": "markdown",
   "metadata": {},
   "source": [
    "## Initialising parameters"
   ]
  },
  {
   "cell_type": "code",
   "execution_count": 6,
   "metadata": {
    "colab": {},
    "colab_type": "code",
    "id": "DXiOJsGBDllz"
   },
   "outputs": [],
   "source": [
    "img_width, img_height = 400, 400    \n",
    "square_width = img_width // 8\n",
    "square_height = img_height // 8\n",
    "border_crop_px = 3\n",
    "sq_wdth = square_width - 2*border_crop_px\n",
    "sq_hgt = square_height - 2*border_crop_px"
   ]
  },
  {
   "cell_type": "markdown",
   "metadata": {},
   "source": [
    "## Creating functions for image pre-processing"
   ]
  },
  {
   "cell_type": "code",
   "execution_count": 7,
   "metadata": {},
   "outputs": [],
   "source": [
    "def square_extractor(img):\n",
    "# taking our edged board as input, splitting it into 64 squares and then removing a 2px border, returning the 64 cropped \n",
    "# squares\n",
    "\n",
    "    # splitting image into 8 equal rows\n",
    "    rows = [img[i-square_height:i,:] for i in np.arange(square_height, img_height+square_height, square_height)]\n",
    "    # splitting individual rows into squares\n",
    "    squares = [j[:,i-square_width:i] for j in rows for i in np.arange(square_width,img_width+square_width, square_width)] \n",
    "    # cropping 2 pixels off each 50x50 image to get rid of the square borders  \n",
    "    squares = [i[border_crop_px:square_width-border_crop_px,border_crop_px:square_height-border_crop_px] for i in squares] \n",
    "    \n",
    "    return squares"
   ]
  },
  {
   "cell_type": "code",
   "execution_count": 8,
   "metadata": {
    "colab": {},
    "colab_type": "code",
    "id": "vsTZUVKfqDSd"
   },
   "outputs": [],
   "source": [
    "def load_preprocess_square_images(img):\n",
    "    # reading our image, sending back an Grayscale of each square (with 2px border crop) on the board\n",
    "    # returning matrix of shape => 64x44x44x1   \n",
    "    \n",
    "    img = cv2.imread(img,0) # read image as black and white\n",
    "    img = cv2.blur(img,(2,2)) # applying Gaussian blur to smooth the images noise\n",
    "    img = cv2.resize(img, (img_width, img_height)) \n",
    "    img = cv2.Canny(img, 100, 200) # edge detection algorithm   \n",
    "    img = np.float32(img) / 255.0 # To keep the image values between 0 and 1\n",
    "    squares = square_extractor(img)\n",
    "    \n",
    "    return squares"
   ]
  },
  {
   "cell_type": "markdown",
   "metadata": {},
   "source": [
    "### Even though at first glace the FEN may be uneccesary, it will be useful in selecting certain pieces for our dataset."
   ]
  },
  {
   "cell_type": "markdown",
   "metadata": {},
   "source": [
    "### FEN generating functions"
   ]
  },
  {
   "cell_type": "code",
   "execution_count": 9,
   "metadata": {
    "colab": {},
    "colab_type": "code",
    "id": "Zw1tFjk2qDSh"
   },
   "outputs": [],
   "source": [
    "def space_characterizor(rank):\n",
    "    # using our FEN notation to create an 1x8 chess row matrix, mainting FEN notation for pieces\n",
    "    # replacing empty squares by 'o'\n",
    "    \n",
    "    # creating our nx1 'rank'\n",
    "    broken_pieces = [i for i in rank]\n",
    "    for i, j in enumerate(broken_pieces):\n",
    "        try:\n",
    "            # as numbers denote empty spaces we replace the int by that no of 'o'\n",
    "            broken_pieces[i] = 'o' * int(j)\n",
    "        except:\n",
    "            continue\n",
    "    # joining all our text to create a 8 character row        \n",
    "    rank = ''.join(broken_pieces)\n",
    "    return rank"
   ]
  },
  {
   "cell_type": "code",
   "execution_count": 10,
   "metadata": {
    "colab": {},
    "colab_type": "code",
    "id": "BSzNkuF2qDSj"
   },
   "outputs": [],
   "source": [
    "def fen_to_numeric(all_fen):\n",
    "    \n",
    "    piece_numeric = {'o':0,'p':1,'b':2,'r':3,'n':4,'k':5,'q':6,'P':7,'B':8,'R':9,'N':10,'K':11,'Q':12}\n",
    "    # splitting our fen into rows\n",
    "    broken_fen = re.split(r'-/?', all_fen)\n",
    "    # creating a 8x8 board matrix from each row\n",
    "    broken_rows = [space_characterizor(i) for i in broken_fen]\n",
    "    # replacing each character with its equivalent number and flattening to a 1x64 vector\n",
    "    fen_board = [piece_numeric[str(i)] for i in np.array([list(i) for i in broken_rows]).flatten()]\n",
    "    return np.array(fen_board)"
   ]
  },
  {
   "cell_type": "code",
   "execution_count": 11,
   "metadata": {
    "colab": {},
    "colab_type": "code",
    "id": "C0ilwlXQqDSl"
   },
   "outputs": [],
   "source": [
    "def get_key(val): \n",
    "    piece_numeric = {'o':0,'p':1,'b':2,'r':3,'n':4,'k':5,'q':6,'P':7,'B':8,'R':9,'N':10,'K':11,'Q':12}\n",
    "    for key, value in piece_numeric.items(): \n",
    "         if val == value: \n",
    "            return key "
   ]
  },
  {
   "cell_type": "markdown",
   "metadata": {
    "colab_type": "text",
    "id": "Wgt5Z7r2DlmC"
   },
   "source": [
    "## Loading the dataset"
   ]
  },
  {
   "cell_type": "markdown",
   "metadata": {},
   "source": [
    "### Collab"
   ]
  },
  {
   "cell_type": "code",
   "execution_count": null,
   "metadata": {},
   "outputs": [],
   "source": [
    "from google.colab import drive\n",
    "drive.mount('/content/drive')\n",
    "\n",
    "train_set = Path(\"/content/drive/My Drive/Project_Jedha/test\")\n",
    "\n",
    "all_image_paths = [str(img_path) for img_path in train_set.glob(\"*.jpeg\")]\n",
    "print(all_image_paths[:5])\n",
    "all_image_fen = [re.search(r'test/(.*?).jpeg',i).group(1) for i in all_image_paths]\n",
    "print(all_image_fen[:5])"
   ]
  },
  {
   "cell_type": "markdown",
   "metadata": {},
   "source": [
    "### Local"
   ]
  },
  {
   "cell_type": "code",
   "execution_count": 3,
   "metadata": {
    "colab": {},
    "colab_type": "code",
    "id": "R6rRxQxQDz-E"
   },
   "outputs": [
    {
     "name": "stdout",
     "output_type": "stream",
     "text": [
      "path: C:\\Users\\alecp\\Desktop\\FINAL_PROJECT\\Datasets\\train\\1b1B1b2-2pK2q1-4p1rB-7k-8-8-3B4-3rb3.jpeg\n",
      "board FEN: 1b1B1b2-2pK2q1-4p1rB-7k-8-8-3B4-3rb3\n"
     ]
    }
   ],
   "source": [
    "train_set = Path(r\"C:\\Users\\alecp\\Desktop\\FINAL_PROJECT\\Datasets\\train\")\n",
    "\n",
    "all_image_paths = [str(img_path) for img_path in train_set.glob(\"*.jpeg\")]\n",
    "print(f'path: {all_image_paths[0]}')\n",
    "all_image_fen = [re.search(r'train\\\\(.*?).jpeg',i).group(1) for i in all_image_paths]\n",
    "print(f'board FEN: {all_image_fen[0]}')"
   ]
  },
  {
   "cell_type": "markdown",
   "metadata": {},
   "source": [
    "## Creating Dataset"
   ]
  },
  {
   "cell_type": "code",
   "execution_count": 14,
   "metadata": {
    "colab": {},
    "colab_type": "code",
    "id": "-kgWU63EqDSu"
   },
   "outputs": [],
   "source": [
    "sample_size = 50"
   ]
  },
  {
   "cell_type": "code",
   "execution_count": 25,
   "metadata": {},
   "outputs": [
    {
     "name": "stdout",
     "output_type": "stream",
     "text": [
      "target (FEN) shape 64*50: (3200,)\n",
      "B&W squares of 44x44, dataset shape: (50, (64, 44, 44)\n",
      "resized \"flattened\" squares shape 50*64, 44*44: (3200, 1936)\n"
     ]
    }
   ],
   "source": [
    "# creating our target variable from the fen in shape = (sample_size * 64, 1)\n",
    "target = np.array([fen_to_numeric(i) for i in all_image_fen[:sample_size]]).flatten()\n",
    "print(f'target (FEN) shape 64*{sample_size}: {target.shape}')\n",
    "# creating our squares of shape sample_sizex64x46x46x3\n",
    "squares_images = [load_preprocess_square_images(i) for i in all_image_paths[:sample_size]]\n",
    "print(f'B&W squares of {sq_hgt}x{sq_wdth}, dataset shape: ({sample_size}, {np.array(squares_images[0]).shape}')\n",
    "\n",
    "# reshaping to place into dataframe with shape = (64*sample_size, 46*46*3)\n",
    "squares_images = tf.reshape(squares_images, (-1, (sq_hgt*sq_wdth)))\n",
    "print(f'resized \"flattened\" squares shape {sample_size}*64, {sq_hgt}*{sq_wdth}: {squares_images.shape}')"
   ]
  },
  {
   "cell_type": "code",
   "execution_count": 28,
   "metadata": {
    "colab": {
     "base_uri": "https://localhost:8080/",
     "height": 51
    },
    "colab_type": "code",
    "id": "7J6U6KBtqDS3",
    "outputId": "d485b0a5-7fe7-477d-81a2-760a9b04fac3"
   },
   "outputs": [
    {
     "name": "stdout",
     "output_type": "stream",
     "text": [
      "incl empty squares dataframe size:  (3200, 2)\n",
      "excl empty squares dataframe size: :  (632, 2)\n"
     ]
    }
   ],
   "source": [
    "# keeping 'square_images' as our complete dataset and 'squares' being the filtered dataset, meaning there is no \n",
    "# need to reload the images into google collab as this was the longest step\n",
    "\n",
    "drop_ds = pd.DataFrame([target, squares_images]).transpose().rename({0: 'target', 1: 'squares'}, axis = 1)\n",
    "print('incl empty squares dataframe size: ',drop_ds.shape)\n",
    "drop_ds = drop_ds[(drop_ds.target != 0)] # remove or select a certain piece/ pieces to create our ds\n",
    "print('excl empty squares dataframe size: : ',drop_ds.shape)"
   ]
  },
  {
   "cell_type": "code",
   "execution_count": 29,
   "metadata": {
    "colab": {},
    "colab_type": "code",
    "id": "Ks9C6l1YqDS6"
   },
   "outputs": [],
   "source": [
    "squares = [drop_ds.squares.iloc[i] for i in range(len(drop_ds.squares))]\n",
    "squares = tf.reshape(squares, (-1, sq_wdth, sq_hgt, 1))"
   ]
  },
  {
   "cell_type": "code",
   "execution_count": 40,
   "metadata": {
    "colab": {
     "base_uri": "https://localhost:8080/",
     "height": 1000
    },
    "colab_type": "code",
    "id": "xBS0F6ySqDS-",
    "outputId": "9d50f46d-b180-467c-c9d5-b57bcf5ea821"
   },
   "outputs": [
    {
     "name": "stdout",
     "output_type": "stream",
     "text": [
      "init units for model: 11.0\n",
      "shape of batch: (64, 44, 44, 1)\n"
     ]
    },
    {
     "data": {
      "image/png": "[encoded data removed]",
      "text/plain": [
       "<Figure size 720x720 with 25 Axes>"
      ]
     },
     "metadata": {},
     "output_type": "display_data"
    },
    {
     "data": {
      "text/plain": [
       "<Figure size 720x360 with 0 Axes>"
      ]
     },
     "metadata": {},
     "output_type": "display_data"
    }
   ],
   "source": [
    "BUFFER_SIZE = squares.shape[0]\n",
    "BATCH_SIZE = 64\n",
    "init_units = squares.shape[1]/4\n",
    "train_set = tf.data.Dataset.from_tensor_slices(squares).shuffle(BUFFER_SIZE).batch(BATCH_SIZE)\n",
    "print(f'init units for model: {init_units}')\n",
    "for i in train_set.take(1):\n",
    "    print(f'shape of batch: {i.shape}')\n",
    "    fig, axs = plt.subplots(5, 5, squeeze = True, figsize = (10,10))\n",
    "    plt.figure(figsize = (10,5))\n",
    "    for k in range(5 * 5):\n",
    "        m = k // 5\n",
    "        n = k % 5\n",
    "        axs[n,m].imshow(tf.squeeze(i[k]), cmap = 'gray')\n",
    "        axs[n,m].set_xticks(())\n",
    "        axs[n,m].set_yticks(())\n",
    "    fig.tight_layout(pad = 0.1)\n",
    "    plt.show()"
   ]
  },
  {
   "cell_type": "markdown",
   "metadata": {},
   "source": [
    "## Creating Generative Adversarial Network"
   ]
  },
  {
   "cell_type": "code",
   "execution_count": 61,
   "metadata": {
    "colab": {},
    "colab_type": "code",
    "id": "O1cARle73ZBC"
   },
   "outputs": [],
   "source": [
    "# Simple CNN generator starting from 256 11x11 'feature maps' / canvas's that the generator can paint on\n",
    "# outputting an image of shape 44 x 44 \n",
    "\n",
    "def generator_model():\n",
    "    model = tf.keras.Sequential([\n",
    "        tf.keras.layers.Dense(11*11*256, use_bias=False, input_shape=(100,)),\n",
    "        tf.keras.layers.BatchNormalization(),\n",
    "        tf.keras.layers.LeakyReLU(alpha = 0.2),\n",
    "        \n",
    "        tf.keras.layers.Reshape((11,11, 256)),\n",
    "        \n",
    "        tf.keras.layers.Conv2DTranspose(128, (4, 4), strides=(1, 1), padding='same', use_bias=False),\n",
    "        tf.keras.layers.BatchNormalization(),\n",
    "        tf.keras.layers.LeakyReLU(alpha = 0.2),\n",
    "        \n",
    "        tf.keras.layers.Conv2DTranspose(128, (4, 4), strides=(2, 2), padding='same', use_bias=False),\n",
    "        tf.keras.layers.BatchNormalization(),\n",
    "        tf.keras.layers.LeakyReLU(alpha = 0.2),\n",
    "        \n",
    "        tf.keras.layers.Conv2DTranspose(1, (4, 4), strides=(2, 2), padding='same', use_bias=False, activation=\"tanh\")\n",
    "                                ])\n",
    "    return model"
   ]
  },
  {
   "cell_type": "code",
   "execution_count": 62,
   "metadata": {
    "colab": {},
    "colab_type": "code",
    "id": "3aPvwF9RqDTC"
   },
   "outputs": [],
   "source": [
    "generator = generator_model()"
   ]
  },
  {
   "cell_type": "code",
   "execution_count": 63,
   "metadata": {
    "colab": {
     "base_uri": "https://localhost:8080/",
     "height": 529
    },
    "colab_type": "code",
    "id": "03k6XxBhqDTE",
    "outputId": "8df5e640-9301-4c41-af38-fc1333d6847e"
   },
   "outputs": [
    {
     "name": "stdout",
     "output_type": "stream",
     "text": [
      "Model: \"sequential_3\"\n",
      "_________________________________________________________________\n",
      "Layer (type)                 Output Shape              Param #   \n",
      "=================================================================\n",
      "dense_3 (Dense)              (None, 30976)             3097600   \n",
      "_________________________________________________________________\n",
      "batch_normalization_3 (Batch (None, 30976)             123904    \n",
      "_________________________________________________________________\n",
      "leaky_re_lu_7 (LeakyReLU)    (None, 30976)             0         \n",
      "_________________________________________________________________\n",
      "reshape_1 (Reshape)          (None, 11, 11, 256)       0         \n",
      "_________________________________________________________________\n",
      "conv2d_transpose_3 (Conv2DTr (None, 11, 11, 128)       524288    \n",
      "_________________________________________________________________\n",
      "batch_normalization_4 (Batch (None, 11, 11, 128)       512       \n",
      "_________________________________________________________________\n",
      "leaky_re_lu_8 (LeakyReLU)    (None, 11, 11, 128)       0         \n",
      "_________________________________________________________________\n",
      "conv2d_transpose_4 (Conv2DTr (None, 22, 22, 128)       262144    \n",
      "_________________________________________________________________\n",
      "batch_normalization_5 (Batch (None, 22, 22, 128)       512       \n",
      "_________________________________________________________________\n",
      "leaky_re_lu_9 (LeakyReLU)    (None, 22, 22, 128)       0         \n",
      "_________________________________________________________________\n",
      "conv2d_transpose_5 (Conv2DTr (None, 44, 44, 1)         2048      \n",
      "=================================================================\n",
      "Total params: 4,011,008\n",
      "Trainable params: 3,948,544\n",
      "Non-trainable params: 62,464\n",
      "_________________________________________________________________\n"
     ]
    }
   ],
   "source": [
    "generator.summary()"
   ]
  },
  {
   "cell_type": "code",
   "execution_count": 64,
   "metadata": {
    "colab": {
     "base_uri": "https://localhost:8080/",
     "height": 283
    },
    "colab_type": "code",
    "id": "YVBCjlspqDTG",
    "outputId": "f0fc05e7-0698-4e20-94de-c74963ab0aed"
   },
   "outputs": [
    {
     "data": {
      "image/png": "[encoded data removed]",
      "text/plain": [
       "<Figure size 432x288 with 1 Axes>"
      ]
     },
     "metadata": {
      "needs_background": "light"
     },
     "output_type": "display_data"
    }
   ],
   "source": [
    "# checking that the generator works to create an image from noise\n",
    "random_pixels = tf.random.normal([1,100])\n",
    "\n",
    "rand_img = generator(random_pixels, training=False)\n",
    "\n",
    "plt.imshow(rand_img.numpy().squeeze())\n",
    "plt.show()"
   ]
  },
  {
   "cell_type": "code",
   "execution_count": 65,
   "metadata": {
    "colab": {},
    "colab_type": "code",
    "id": "synsVCX17Ao7"
   },
   "outputs": [],
   "source": [
    "# Simple binary classification CNN discriminator with input image of shape 44 x 44\n",
    "\n",
    "def make_discriminator_model():\n",
    "  \n",
    "    model = tf.keras.Sequential([\n",
    "        \n",
    "        tf.keras.layers.Conv2D(64, (3, 3), strides=(2, 2), padding='same', input_shape=[44, 44, 1]),\n",
    "        tf.keras.layers.LeakyReLU(alpha = 0.2),\n",
    "        tf.keras.layers.Dropout(0.4),\n",
    "        \n",
    "        tf.keras.layers.Conv2D(128, (3,3), strides=(2,2), padding=\"same\"),\n",
    "        tf.keras.layers.LeakyReLU(alpha = 0.2),\n",
    "        tf.keras.layers.Dropout(0.4),\n",
    "        \n",
    "        tf.keras.layers.Flatten(),\n",
    "        tf.keras.layers.Dense(1, activation = 'sigmoid')\n",
    "    ])\n",
    "\n",
    "    return model "
   ]
  },
  {
   "cell_type": "code",
   "execution_count": 66,
   "metadata": {
    "colab": {
     "base_uri": "https://localhost:8080/",
     "height": 34
    },
    "colab_type": "code",
    "id": "dSq_qLoEqDTM",
    "outputId": "1bbb83ff-2bb5-428d-b028-e30894ae1769"
   },
   "outputs": [
    {
     "data": {
      "text/plain": [
       "<tf.Tensor: shape=(1, 1), dtype=float32, numpy=array([[0.5002635]], dtype=float32)>"
      ]
     },
     "execution_count": 66,
     "metadata": {},
     "output_type": "execute_result"
    }
   ],
   "source": [
    "# testing the discriminator, on the prediction of our noise image (given that no training has happened yet)\n",
    "discriminator = make_discriminator_model()\n",
    "discriminator(rand_img, training=False)"
   ]
  },
  {
   "cell_type": "code",
   "execution_count": 67,
   "metadata": {
    "colab": {
     "base_uri": "https://localhost:8080/",
     "height": 426
    },
    "colab_type": "code",
    "id": "9THQmLFNDlmt",
    "outputId": "341df0a6-169f-4350-81be-665f4dcdfc53"
   },
   "outputs": [
    {
     "name": "stdout",
     "output_type": "stream",
     "text": [
      "Model: \"sequential_4\"\n",
      "_________________________________________________________________\n",
      "Layer (type)                 Output Shape              Param #   \n",
      "=================================================================\n",
      "conv2d_4 (Conv2D)            (None, 22, 22, 64)        640       \n",
      "_________________________________________________________________\n",
      "leaky_re_lu_10 (LeakyReLU)   (None, 22, 22, 64)        0         \n",
      "_________________________________________________________________\n",
      "dropout_4 (Dropout)          (None, 22, 22, 64)        0         \n",
      "_________________________________________________________________\n",
      "conv2d_5 (Conv2D)            (None, 11, 11, 128)       73856     \n",
      "_________________________________________________________________\n",
      "leaky_re_lu_11 (LeakyReLU)   (None, 11, 11, 128)       0         \n",
      "_________________________________________________________________\n",
      "dropout_5 (Dropout)          (None, 11, 11, 128)       0         \n",
      "_________________________________________________________________\n",
      "flatten_2 (Flatten)          (None, 15488)             0         \n",
      "_________________________________________________________________\n",
      "dense_4 (Dense)              (None, 1)                 15489     \n",
      "=================================================================\n",
      "Total params: 89,985\n",
      "Trainable params: 89,985\n",
      "Non-trainable params: 0\n",
      "_________________________________________________________________\n"
     ]
    }
   ],
   "source": [
    "discriminator.summary()"
   ]
  },
  {
   "cell_type": "code",
   "execution_count": 68,
   "metadata": {
    "colab": {},
    "colab_type": "code",
    "id": "Mgb8QqHWqDTQ"
   },
   "outputs": [],
   "source": [
    "# defining our loss function with Binary Crossentropy\n",
    "cross_entropy = tf.keras.losses.BinaryCrossentropy(from_logits=True)"
   ]
  },
  {
   "cell_type": "code",
   "execution_count": 69,
   "metadata": {
    "colab": {},
    "colab_type": "code",
    "id": "Ykv6NRjLqDTS"
   },
   "outputs": [],
   "source": [
    "def discriminator_loss(real_outputs, fake_outputs):\n",
    "# taking probability of descrims decision, checking how accurate it was and sending back total_loss\n",
    "# min loss => come from maximising correct predictions between fake and real\n",
    "\n",
    "    # Calculating the loss between the real images and 1 (how well can the model predict 'real')\n",
    "    real_loss = cross_entropy(tf.ones_like(real_outputs), real_outputs)\n",
    "    # Calculating the loss between the generated images and 0 (how well can the model predict 'fake')\n",
    "    fake_loss = cross_entropy(tf.zeros_like(fake_outputs), fake_outputs)\n",
    "    # both are equally important for the discrim to become better at differentiating the two\n",
    "    total_loss = real_loss + fake_loss \n",
    "\n",
    "    return total_loss"
   ]
  },
  {
   "cell_type": "code",
   "execution_count": 70,
   "metadata": {
    "colab": {},
    "colab_type": "code",
    "id": "xKPn7nVPqDTW"
   },
   "outputs": [],
   "source": [
    "def generator_loss(fake_outputs):\n",
    "# taking the probability of the dicriminators decision on the generated images\n",
    "# min loss => maximising the error the discrim makes on the generated images being real\n",
    "\n",
    "    return cross_entropy(tf.ones_like(fake_outputs), fake_outputs)"
   ]
  },
  {
   "cell_type": "code",
   "execution_count": 71,
   "metadata": {
    "colab": {},
    "colab_type": "code",
    "id": "hA4qidkZqDTZ"
   },
   "outputs": [],
   "source": [
    "generator_optimizer = tf.keras.optimizers.Adam(2e-4, beta_1 = 0.5)\n",
    "discriminator_optimizer = tf.keras.optimizers.Adam(2e-4, beta_1 = 0.5)"
   ]
  },
  {
   "cell_type": "code",
   "execution_count": 72,
   "metadata": {
    "colab": {},
    "colab_type": "code",
    "id": "GlvP6iUMqDTb"
   },
   "outputs": [],
   "source": [
    "EPOCHS = 100\n",
    "noise_dim = 100\n",
    "num_examples_to_generate = 16\n",
    "# seed used as starting noise as input for the generator to create our images during training\n",
    "seed = tf.random.normal([num_examples_to_generate, noise_dim])"
   ]
  },
  {
   "cell_type": "code",
   "execution_count": 73,
   "metadata": {
    "colab": {},
    "colab_type": "code",
    "id": "uWKr7jWXqDTd"
   },
   "outputs": [],
   "source": [
    "def train_step(images):\n",
    "    noise = tf.random.normal([BATCH_SIZE, noise_dim])\n",
    "\n",
    "    with tf.GradientTape() as gen_tape, tf.GradientTape() as disc_tape:\n",
    "        generated_images = generator(noise, training=True) # generate images from noise\n",
    "\n",
    "        real_output = discriminator(images, training=True) # prediction of discrim on real images\n",
    "        fake_output = discriminator(generated_images, training=True) # prediction of discrim on generated images\n",
    "\n",
    "        gen_loss = generator_loss(fake_output) # calculating gen loss\n",
    "        disc_loss = discriminator_loss(real_output, fake_output) # calculating discrim loss\n",
    "\n",
    "    gradients_of_generator = gen_tape.gradient(gen_loss, generator.trainable_variables) # creating gradient changes needed for \n",
    "    gradients_of_discriminator = disc_tape.gradient(disc_loss, discriminator.trainable_variables) # each 'training variable'\n",
    "\n",
    "    generator_optimizer.apply_gradients(zip(gradients_of_generator, generator.trainable_variables)) # applying calculated\n",
    "    discriminator_optimizer.apply_gradients(zip(gradients_of_discriminator, discriminator.trainable_variables)) # gradient changes"
   ]
  },
  {
   "cell_type": "code",
   "execution_count": 74,
   "metadata": {
    "colab": {},
    "colab_type": "code",
    "id": "0F0d-WISqDTe"
   },
   "outputs": [],
   "source": [
    "def generate_and_save_images(model, epoch, test_input):\n",
    "    # Notice `training` is set to False.\n",
    "    # This is so all layers run in inference mode (batchnorm).\n",
    "    predictions = model(test_input, training=False)\n",
    "\n",
    "    fig = plt.figure(figsize=(4,4))\n",
    "\n",
    "    for i in range(predictions.shape[0]):\n",
    "        plt.subplot(4, 4, i+1)\n",
    "        plt.imshow(predictions[i, :, :, 0] * 127.5 + 127.5, cmap='gray')\n",
    "        plt.axis('off')\n",
    "\n",
    "    plt.savefig('./GAN_imgs/GAN_pawn/GAN_img_at_epoch_{:04d}.png'.format(epoch)) # saving an image for each EPOCH\n",
    "    plt.show()"
   ]
  },
  {
   "cell_type": "markdown",
   "metadata": {},
   "source": [
    "## Running model & compiling results"
   ]
  },
  {
   "cell_type": "code",
   "execution_count": 78,
   "metadata": {
    "colab": {
     "base_uri": "https://localhost:8080/",
     "height": 248
    },
    "colab_type": "code",
    "id": "u2CE8jRNqDTh",
    "outputId": "7d522c22-d2ad-47df-ea84-7208ed31f575"
   },
   "outputs": [
    {
     "data": {
      "image/png": "[encoded data removed]",
      "text/plain": [
       "<Figure size 288x288 with 16 Axes>"
      ]
     },
     "metadata": {
      "needs_background": "light"
     },
     "output_type": "display_data"
    }
   ],
   "source": [
    "for epoch in range(EPOCHS):\n",
    "    start = time.time()\n",
    "\n",
    "    for image_batch in train_set:\n",
    "        train_step(image_batch)\n",
    "\n",
    "    # removing the last saved image and replacing it with the new one\n",
    "    display.clear_output(wait=True)\n",
    "    generate_and_save_images(generator,\n",
    "                          epoch + 1,\n",
    "                          seed)\n",
    "\n",
    "    print ('Time for epoch {} is {} sec'.format(epoch + 1, time.time()-start))\n",
    "\n",
    "# Generating the last image created by our GAN\n",
    "display.clear_output(wait=True)\n",
    "generate_and_save_images(generator,\n",
    "                         EPOCHS,\n",
    "                         seed)"
   ]
  },
  {
   "cell_type": "code",
   "execution_count": 288,
   "metadata": {
    "colab": {
     "base_uri": "https://localhost:8080/",
     "height": 1000
    },
    "colab_type": "code",
    "id": "Ww3oCwHIoFXz",
    "outputId": "fcf80205-0268-47f6-ca0b-3036143a1fd5"
   },
   "outputs": [
    {
     "name": "stdout",
     "output_type": "stream",
     "text": [
      "<class 'numpy.ndarray'>\n"
     ]
    },
    {
     "data": {
      "image/png": "[encoded data removed]",
      "text/plain": [
       "<Figure size 432x288 with 1 Axes>"
      ]
     },
     "metadata": {
      "needs_background": "light",
      "tags": []
     },
     "output_type": "display_data"
    },
    {
     "name": "stdout",
     "output_type": "stream",
     "text": [
      "<class 'numpy.ndarray'>\n"
     ]
    },
    {
     "data": {
      "image/png": "[encoded data removed]",
      "text/plain": [
       "<Figure size 432x288 with 1 Axes>"
      ]
     },
     "metadata": {
      "needs_background": "light",
      "tags": []
     },
     "output_type": "display_data"
    },
    {
     "name": "stdout",
     "output_type": "stream",
     "text": [
      "<class 'numpy.ndarray'>\n"
     ]
    },
    {
     "data": {
      "image/png": "[encoded data removed]",
      "text/plain": [
       "<Figure size 432x288 with 1 Axes>"
      ]
     },
     "metadata": {
      "needs_background": "light",
      "tags": []
     },
     "output_type": "display_data"
    },
    {
     "name": "stdout",
     "output_type": "stream",
     "text": [
      "<class 'numpy.ndarray'>\n"
     ]
    },
    {
     "data": {
      "image/png": "[encoded data removed]",
      "text/plain": [
       "<Figure size 432x288 with 1 Axes>"
      ]
     },
     "metadata": {
      "needs_background": "light",
      "tags": []
     },
     "output_type": "display_data"
    },
    {
     "name": "stdout",
     "output_type": "stream",
     "text": [
      "<class 'numpy.ndarray'>\n"
     ]
    },
    {
     "data": {
      "image/png": "[encoded data removed]",
      "text/plain": [
       "<Figure size 432x288 with 1 Axes>"
      ]
     },
     "metadata": {
      "needs_background": "light",
      "tags": []
     },
     "output_type": "display_data"
    },
    {
     "name": "stdout",
     "output_type": "stream",
     "text": [
      "<class 'numpy.ndarray'>\n"
     ]
    },
    {
     "data": {
      "image/png": "[encoded data removed]",
      "text/plain": [
       "<Figure size 432x288 with 1 Axes>"
      ]
     },
     "metadata": {
      "needs_background": "light",
      "tags": []
     },
     "output_type": "display_data"
    },
    {
     "name": "stdout",
     "output_type": "stream",
     "text": [
      "<class 'numpy.ndarray'>\n"
     ]
    },
    {
     "data": {
      "image/png": "[encoded data removed]",
      "text/plain": [
       "<Figure size 432x288 with 1 Axes>"
      ]
     },
     "metadata": {
      "needs_background": "light",
      "tags": []
     },
     "output_type": "display_data"
    },
    {
     "name": "stdout",
     "output_type": "stream",
     "text": [
      "<class 'numpy.ndarray'>\n"
     ]
    },
    {
     "data": {
      "image/png": "[encoded data removed]",
      "text/plain": [
       "<Figure size 432x288 with 1 Axes>"
      ]
     },
     "metadata": {
      "needs_background": "light",
      "tags": []
     },
     "output_type": "display_data"
    },
    {
     "name": "stdout",
     "output_type": "stream",
     "text": [
      "<class 'numpy.ndarray'>\n"
     ]
    },
    {
     "data": {
      "image/png": "[encoded data removed]",
      "text/plain": [
       "<Figure size 432x288 with 1 Axes>"
      ]
     },
     "metadata": {
      "needs_background": "light",
      "tags": []
     },
     "output_type": "display_data"
    },
    {
     "name": "stdout",
     "output_type": "stream",
     "text": [
      "<class 'numpy.ndarray'>\n"
     ]
    },
    {
     "data": {
      "image/png": "[encoded data removed]",
      "text/plain": [
       "<Figure size 432x288 with 1 Axes>"
      ]
     },
     "metadata": {
      "needs_background": "light",
      "tags": []
     },
     "output_type": "display_data"
    },
    {
     "name": "stdout",
     "output_type": "stream",
     "text": [
      "<class 'numpy.ndarray'>\n"
     ]
    },
    {
     "data": {
      "image/png": "[encoded data removed]",
      "text/plain": [
       "<Figure size 432x288 with 1 Axes>"
      ]
     },
     "metadata": {
      "needs_background": "light",
      "tags": []
     },
     "output_type": "display_data"
    },
    {
     "name": "stdout",
     "output_type": "stream",
     "text": [
      "<class 'numpy.ndarray'>\n"
     ]
    },
    {
     "data": {
      "image/png": "[encoded data removed]",
      "text/plain": [
       "<Figure size 432x288 with 1 Axes>"
      ]
     },
     "metadata": {
      "needs_background": "light",
      "tags": []
     },
     "output_type": "display_data"
    },
    {
     "name": "stdout",
     "output_type": "stream",
     "text": [
      "<class 'numpy.ndarray'>\n"
     ]
    },
    {
     "data": {
      "image/png": "[encoded data removed]",
      "text/plain": [
       "<Figure size 432x288 with 1 Axes>"
      ]
     },
     "metadata": {
      "needs_background": "light",
      "tags": []
     },
     "output_type": "display_data"
    },
    {
     "name": "stdout",
     "output_type": "stream",
     "text": [
      "<class 'numpy.ndarray'>\n"
     ]
    },
    {
     "data": {
      "image/png": "[encoded data removed]",
      "text/plain": [
       "<Figure size 432x288 with 1 Axes>"
      ]
     },
     "metadata": {
      "needs_background": "light",
      "tags": []
     },
     "output_type": "display_data"
    },
    {
     "name": "stdout",
     "output_type": "stream",
     "text": [
      "<class 'numpy.ndarray'>\n"
     ]
    },
    {
     "data": {
      "image/png": "[encoded data removed]",
      "text/plain": [
       "<Figure size 432x288 with 1 Axes>"
      ]
     },
     "metadata": {
      "needs_background": "light",
      "tags": []
     },
     "output_type": "display_data"
    },
    {
     "name": "stdout",
     "output_type": "stream",
     "text": [
      "<class 'numpy.ndarray'>\n"
     ]
    },
    {
     "data": {
      "image/png": "[encoded data removed]",
      "text/plain": [
       "<Figure size 432x288 with 1 Axes>"
      ]
     },
     "metadata": {
      "needs_background": "light",
      "tags": []
     },
     "output_type": "display_data"
    }
   ],
   "source": [
    "predictions = generator(seed, training=False)\n",
    "\n",
    "for i in range(predictions.shape[0]):\n",
    "    gan_img = np.float32(predictions[i,:,:,0] * 127.5 + 127.5)\n",
    "    plt.imshow(gan_img, cmap = 'gray')\n",
    "    plt.show()"
   ]
  },
  {
   "cell_type": "code",
   "execution_count": 9,
   "metadata": {
    "colab": {},
    "colab_type": "code",
    "id": "niuiLsw-Dlm9"
   },
   "outputs": [],
   "source": [
    "# if images selected for each piece and progression saved in different subfolders\n",
    "# this for loop creates a GIF for eachs piece's generation\n",
    "for i in ['GAN_pawn','GAN_rook','GAN_knights','GAN_king','GAN_queen','GAN_bishop']:\n",
    "\n",
    "    img, *imgs = [Image.open(f) for f in [f'./GAN_imgs/{i}/GAN_img_at_epoch_{str(num).zfill(4)}.png' for num in range(1,EPOCHS+1)]]\n",
    "    img.save(fp=f\"./{i}.gif\", format='GIF', append_images=imgs,\n",
    "             save_all=True, duration=100, loop=0)"
   ]
  },
  {
   "cell_type": "code",
   "execution_count": 290,
   "metadata": {
    "colab": {
     "base_uri": "https://localhost:8080/",
     "height": 1000
    },
    "colab_type": "code",
    "id": "crzSreFdDlm_",
    "outputId": "5e2480f6-a905-4c3a-bc2d-f90e5caed387"
   },
   "outputs": [
    {
     "name": "stdout",
     "output_type": "stream",
     "text": [
      "updating: content/GAN_pawn/ (stored 0%)\n",
      "updating: content/GAN_pawn/GAN_img_at_epoch_0272.png (deflated 7%)\n",
      "updating: content/GAN_pawn/GAN_img_at_epoch_0255.png (deflated 7%)\n",
      "updating: content/GAN_pawn/GAN_img_at_epoch_0233.png (deflated 7%)\n",
      "updating: content/GAN_pawn/GAN_img_at_epoch_0132.png (deflated 7%)\n",
      "updating: content/GAN_pawn/GAN_img_at_epoch_0072.png (deflated 6%)\n",
      "updating: content/GAN_pawn/GAN_img_at_epoch_0096.png (deflated 7%)\n",
      "updating: content/GAN_pawn/GAN_img_at_epoch_0095.png (deflated 7%)\n",
      "updating: content/GAN_pawn/GAN_img_at_epoch_0026.png (deflated 9%)\n",
      "updating: content/GAN_pawn/GAN_img_at_epoch_0083.png (deflated 8%)\n",
      "updating: content/GAN_pawn/GAN_img_at_epoch_0122.png (deflated 7%)\n",
      "updating: content/GAN_pawn/GAN_img_at_epoch_0297.png (deflated 6%)\n",
      "updating: content/GAN_pawn/GAN_img_at_epoch_0224.png (deflated 7%)\n",
      "updating: content/GAN_pawn/GAN_img_at_epoch_0002.png (deflated 11%)\n",
      "updating: content/GAN_pawn/GAN_img_at_epoch_0227.png (deflated 7%)\n",
      "updating: content/GAN_pawn/GAN_img_at_epoch_0147.png (deflated 7%)\n",
      "updating: content/GAN_pawn/GAN_img_at_epoch_0213.png (deflated 7%)\n",
      "updating: content/GAN_pawn/GAN_img_at_epoch_0154.png (deflated 7%)\n",
      "updating: content/GAN_pawn/GAN_img_at_epoch_0222.png (deflated 7%)\n",
      "updating: content/GAN_pawn/GAN_img_at_epoch_0006.png (deflated 8%)\n",
      "updating: content/GAN_pawn/GAN_img_at_epoch_0198.png (deflated 7%)\n",
      "updating: content/GAN_pawn/GAN_img_at_epoch_0223.png (deflated 7%)\n",
      "updating: content/GAN_pawn/GAN_img_at_epoch_0003.png (deflated 9%)\n",
      "updating: content/GAN_pawn/GAN_img_at_epoch_0062.png (deflated 7%)\n",
      "updating: content/GAN_pawn/GAN_img_at_epoch_0249.png (deflated 7%)\n",
      "updating: content/GAN_pawn/GAN_img_at_epoch_0204.png (deflated 7%)\n",
      "updating: content/GAN_pawn/GAN_img_at_epoch_0067.png (deflated 8%)\n",
      "updating: content/GAN_pawn/GAN_img_at_epoch_0234.png (deflated 7%)\n",
      "updating: content/GAN_pawn/GAN_img_at_epoch_0044.png (deflated 5%)\n",
      "updating: content/GAN_pawn/GAN_img_at_epoch_0212.png (deflated 7%)\n",
      "updating: content/GAN_pawn/GAN_img_at_epoch_0171.png (deflated 7%)\n",
      "updating: content/GAN_pawn/GAN_img_at_epoch_0098.png (deflated 7%)\n",
      "updating: content/GAN_pawn/GAN_img_at_epoch_0161.png (deflated 7%)\n",
      "updating: content/GAN_pawn/GAN_img_at_epoch_0196.png (deflated 7%)\n",
      "updating: content/GAN_pawn/GAN_img_at_epoch_0111.png (deflated 7%)\n",
      "updating: content/GAN_pawn/GAN_img_at_epoch_0119.png (deflated 6%)\n",
      "updating: content/GAN_pawn/GAN_img_at_epoch_0253.png (deflated 7%)\n",
      "updating: content/GAN_pawn/GAN_img_at_epoch_0153.png (deflated 7%)\n",
      "updating: content/GAN_pawn/GAN_img_at_epoch_0035.png (deflated 4%)\n",
      "updating: content/GAN_pawn/GAN_img_at_epoch_0250.png (deflated 7%)\n",
      "updating: content/GAN_pawn/GAN_img_at_epoch_0265.png (deflated 7%)\n",
      "updating: content/GAN_pawn/GAN_img_at_epoch_0145.png (deflated 7%)\n",
      "updating: content/GAN_pawn/GAN_img_at_epoch_0091.png (deflated 7%)\n",
      "updating: content/GAN_pawn/GAN_img_at_epoch_0268.png (deflated 7%)\n",
      "updating: content/GAN_pawn/GAN_img_at_epoch_0225.png (deflated 7%)\n",
      "updating: content/GAN_pawn/GAN_img_at_epoch_0014.png (deflated 10%)\n",
      "updating: content/GAN_pawn/GAN_img_at_epoch_0240.png (deflated 7%)\n",
      "updating: content/GAN_pawn/GAN_img_at_epoch_0162.png (deflated 7%)\n",
      "updating: content/GAN_pawn/GAN_img_at_epoch_0024.png (deflated 8%)\n",
      "updating: content/GAN_pawn/GAN_img_at_epoch_0057.png (deflated 7%)\n",
      "updating: content/GAN_pawn/GAN_img_at_epoch_0010.png (deflated 10%)\n",
      "updating: content/GAN_pawn/GAN_img_at_epoch_0193.png (deflated 7%)\n",
      "updating: content/GAN_pawn/GAN_img_at_epoch_0070.png (deflated 7%)\n",
      "updating: content/GAN_pawn/GAN_img_at_epoch_0056.png (deflated 7%)\n",
      "updating: content/GAN_pawn/GAN_img_at_epoch_0068.png (deflated 7%)\n",
      "updating: content/GAN_pawn/GAN_img_at_epoch_0001.png (deflated 11%)\n",
      "updating: content/GAN_pawn/GAN_img_at_epoch_0173.png (deflated 7%)\n",
      "updating: content/GAN_pawn/GAN_img_at_epoch_0199.png (deflated 7%)\n",
      "updating: content/GAN_pawn/GAN_img_at_epoch_0181.png (deflated 7%)\n",
      "updating: content/GAN_pawn/GAN_img_at_epoch_0148.png (deflated 6%)\n",
      "updating: content/GAN_pawn/GAN_img_at_epoch_0167.png (deflated 7%)\n",
      "updating: content/GAN_pawn/GAN_img_at_epoch_0086.png (deflated 8%)\n",
      "updating: content/GAN_pawn/GAN_img_at_epoch_0174.png (deflated 7%)\n",
      "updating: content/GAN_pawn/GAN_img_at_epoch_0050.png (deflated 6%)\n",
      "updating: content/GAN_pawn/GAN_img_at_epoch_0187.png (deflated 6%)\n",
      "updating: content/GAN_pawn/GAN_img_at_epoch_0045.png (deflated 6%)\n",
      "updating: content/GAN_pawn/GAN_img_at_epoch_0237.png (deflated 7%)\n",
      "updating: content/GAN_pawn/GAN_img_at_epoch_0049.png (deflated 6%)\n",
      "updating: content/GAN_pawn/GAN_img_at_epoch_0215.png (deflated 7%)\n",
      "updating: content/GAN_pawn/GAN_img_at_epoch_0088.png (deflated 8%)\n",
      "updating: content/GAN_pawn/GAN_img_at_epoch_0188.png (deflated 7%)\n",
      "updating: content/GAN_pawn/GAN_img_at_epoch_0221.png (deflated 6%)\n",
      "updating: content/GAN_pawn/GAN_img_at_epoch_0230.png (deflated 7%)\n",
      "updating: content/GAN_pawn/GAN_img_at_epoch_0183.png (deflated 6%)\n",
      "updating: content/GAN_pawn/GAN_img_at_epoch_0066.png (deflated 7%)\n",
      "updating: content/GAN_pawn/GAN_img_at_epoch_0110.png (deflated 7%)\n",
      "updating: content/GAN_pawn/GAN_img_at_epoch_0137.png (deflated 7%)\n",
      "updating: content/GAN_pawn/GAN_img_at_epoch_0133.png (deflated 7%)\n",
      "updating: content/GAN_pawn/GAN_img_at_epoch_0053.png (deflated 7%)\n",
      "updating: content/GAN_pawn/GAN_img_at_epoch_0209.png (deflated 7%)\n",
      "updating: content/GAN_pawn/GAN_img_at_epoch_0099.png (deflated 7%)\n",
      "updating: content/GAN_pawn/GAN_img_at_epoch_0101.png (deflated 7%)\n",
      "updating: content/GAN_pawn/GAN_img_at_epoch_0197.png (deflated 7%)\n",
      "updating: content/GAN_pawn/GAN_img_at_epoch_0063.png (deflated 7%)\n",
      "updating: content/GAN_pawn/GAN_img_at_epoch_0126.png (deflated 7%)\n",
      "updating: content/GAN_pawn/GAN_img_at_epoch_0164.png (deflated 7%)\n",
      "updating: content/GAN_pawn/GAN_img_at_epoch_0100.png (deflated 7%)\n",
      "updating: content/GAN_pawn/GAN_img_at_epoch_0030.png (deflated 5%)\n",
      "updating: content/GAN_pawn/GAN_img_at_epoch_0104.png (deflated 7%)\n",
      "updating: content/GAN_pawn/GAN_img_at_epoch_0043.png (deflated 6%)\n",
      "updating: content/GAN_pawn/GAN_img_at_epoch_0190.png (deflated 7%)\n",
      "updating: content/GAN_pawn/GAN_img_at_epoch_0077.png (deflated 7%)\n",
      "updating: content/GAN_pawn/GAN_img_at_epoch_0124.png (deflated 7%)\n",
      "updating: content/GAN_pawn/GAN_img_at_epoch_0232.png (deflated 7%)\n",
      "updating: content/GAN_pawn/GAN_img_at_epoch_0051.png (deflated 6%)\n",
      "updating: content/GAN_pawn/GAN_img_at_epoch_0258.png (deflated 7%)\n",
      "updating: content/GAN_pawn/GAN_img_at_epoch_0031.png (deflated 4%)\n",
      "updating: content/GAN_pawn/GAN_img_at_epoch_0203.png (deflated 7%)\n",
      "updating: content/GAN_pawn/GAN_img_at_epoch_0260.png (deflated 7%)\n",
      "updating: content/GAN_pawn/GAN_img_at_epoch_0236.png (deflated 7%)\n",
      "updating: content/GAN_pawn/GAN_img_at_epoch_0065.png (deflated 8%)\n",
      "updating: content/GAN_pawn/GAN_img_at_epoch_0123.png (deflated 6%)\n",
      "updating: content/GAN_pawn/GAN_img_at_epoch_0284.png (deflated 7%)\n",
      "updating: content/GAN_pawn/GAN_img_at_epoch_0120.png (deflated 7%)\n",
      "updating: content/GAN_pawn/GAN_img_at_epoch_0235.png (deflated 7%)\n",
      "updating: content/GAN_pawn/GAN_img_at_epoch_0131.png (deflated 7%)\n",
      "updating: content/GAN_pawn/GAN_img_at_epoch_0034.png (deflated 4%)\n",
      "updating: content/GAN_pawn/GAN_img_at_epoch_0093.png (deflated 7%)\n",
      "updating: content/GAN_pawn/GAN_img_at_epoch_0289.png (deflated 7%)\n",
      "updating: content/GAN_pawn/GAN_img_at_epoch_0300.png (deflated 7%)\n",
      "updating: content/GAN_pawn/GAN_img_at_epoch_0170.png (deflated 7%)\n",
      "updating: content/GAN_pawn/GAN_img_at_epoch_0192.png (deflated 7%)\n",
      "updating: content/GAN_pawn/GAN_img_at_epoch_0282.png (deflated 7%)\n",
      "updating: content/GAN_pawn/GAN_img_at_epoch_0269.png (deflated 7%)\n",
      "updating: content/GAN_pawn/GAN_img_at_epoch_0186.png (deflated 7%)\n",
      "updating: content/GAN_pawn/GAN_img_at_epoch_0166.png (deflated 7%)\n",
      "updating: content/GAN_pawn/GAN_img_at_epoch_0064.png (deflated 8%)\n",
      "updating: content/GAN_pawn/GAN_img_at_epoch_0263.png (deflated 7%)\n",
      "updating: content/GAN_pawn/GAN_img_at_epoch_0264.png (deflated 7%)\n",
      "updating: content/GAN_pawn/GAN_img_at_epoch_0125.png (deflated 7%)\n",
      "updating: content/GAN_pawn/GAN_img_at_epoch_0105.png (deflated 7%)\n",
      "updating: content/GAN_pawn/GAN_img_at_epoch_0278.png (deflated 7%)\n",
      "updating: content/GAN_pawn/GAN_img_at_epoch_0039.png (deflated 5%)\n",
      "updating: content/GAN_pawn/GAN_img_at_epoch_0299.png (deflated 7%)\n",
      "updating: content/GAN_pawn/GAN_img_at_epoch_0262.png (deflated 6%)\n",
      "updating: content/GAN_pawn/GAN_img_at_epoch_0142.png (deflated 6%)\n",
      "updating: content/GAN_pawn/GAN_img_at_epoch_0046.png (deflated 6%)\n",
      "updating: content/GAN_pawn/GAN_img_at_epoch_0118.png (deflated 7%)\n",
      "updating: content/GAN_pawn/GAN_img_at_epoch_0009.png (deflated 9%)\n",
      "updating: content/GAN_pawn/GAN_img_at_epoch_0054.png (deflated 7%)\n",
      "updating: content/GAN_pawn/GAN_img_at_epoch_0231.png (deflated 7%)\n",
      "updating: content/GAN_pawn/GAN_img_at_epoch_0201.png (deflated 7%)\n",
      "updating: content/GAN_pawn/GAN_img_at_epoch_0112.png (deflated 6%)\n",
      "updating: content/GAN_pawn/GAN_img_at_epoch_0244.png (deflated 7%)\n",
      "updating: content/GAN_pawn/GAN_img_at_epoch_0285.png (deflated 7%)\n",
      "updating: content/GAN_pawn/GAN_img_at_epoch_0195.png (deflated 7%)\n",
      "updating: content/GAN_pawn/GAN_img_at_epoch_0109.png (deflated 7%)\n",
      "updating: content/GAN_pawn/GAN_img_at_epoch_0011.png (deflated 9%)\n",
      "updating: content/GAN_pawn/GAN_img_at_epoch_0013.png (deflated 10%)\n",
      "updating: content/GAN_pawn/GAN_img_at_epoch_0127.png (deflated 6%)\n",
      "updating: content/GAN_pawn/GAN_img_at_epoch_0094.png (deflated 6%)\n",
      "updating: content/GAN_pawn/GAN_img_at_epoch_0138.png (deflated 6%)\n",
      "updating: content/GAN_pawn/GAN_img_at_epoch_0295.png (deflated 7%)\n",
      "updating: content/GAN_pawn/GAN_img_at_epoch_0059.png (deflated 7%)\n",
      "updating: content/GAN_pawn/GAN_img_at_epoch_0028.png (deflated 5%)\n",
      "updating: content/GAN_pawn/GAN_img_at_epoch_0205.png (deflated 7%)\n",
      "updating: content/GAN_pawn/GAN_img_at_epoch_0274.png (deflated 7%)\n",
      "updating: content/GAN_pawn/GAN_img_at_epoch_0023.png (deflated 9%)\n",
      "updating: content/GAN_pawn/GAN_img_at_epoch_0018.png (deflated 8%)\n",
      "updating: content/GAN_pawn/GAN_img_at_epoch_0185.png (deflated 7%)\n",
      "updating: content/GAN_pawn/GAN_img_at_epoch_0276.png (deflated 7%)\n",
      "updating: content/GAN_pawn/GAN_img_at_epoch_0157.png (deflated 7%)\n",
      "updating: content/GAN_pawn/GAN_img_at_epoch_0290.png (deflated 7%)\n",
      "updating: content/GAN_pawn/GAN_img_at_epoch_0061.png (deflated 7%)\n",
      "updating: content/GAN_pawn/GAN_img_at_epoch_0152.png (deflated 7%)\n",
      "updating: content/GAN_pawn/GAN_img_at_epoch_0075.png (deflated 8%)\n",
      "updating: content/GAN_pawn/GAN_img_at_epoch_0037.png (deflated 4%)\n",
      "updating: content/GAN_pawn/GAN_img_at_epoch_0220.png (deflated 7%)\n",
      "updating: content/GAN_pawn/GAN_img_at_epoch_0288.png (deflated 7%)\n",
      "updating: content/GAN_pawn/GAN_img_at_epoch_0176.png (deflated 7%)\n",
      "updating: content/GAN_pawn/GAN_img_at_epoch_0042.png (deflated 5%)\n",
      "updating: content/GAN_pawn/GAN_img_at_epoch_0248.png (deflated 7%)\n",
      "updating: content/GAN_pawn/GAN_img_at_epoch_0081.png (deflated 7%)\n",
      "updating: content/GAN_pawn/GAN_img_at_epoch_0243.png (deflated 7%)\n",
      "updating: content/GAN_pawn/GAN_img_at_epoch_0129.png (deflated 6%)\n",
      "updating: content/GAN_pawn/GAN_img_at_epoch_0256.png (deflated 7%)\n",
      "updating: content/GAN_pawn/GAN_img_at_epoch_0238.png (deflated 7%)\n",
      "updating: content/GAN_pawn/GAN_img_at_epoch_0245.png (deflated 7%)\n",
      "updating: content/GAN_pawn/GAN_img_at_epoch_0008.png (deflated 9%)\n",
      "updating: content/GAN_pawn/GAN_img_at_epoch_0259.png (deflated 7%)\n",
      "updating: content/GAN_pawn/GAN_img_at_epoch_0074.png (deflated 8%)\n",
      "updating: content/GAN_pawn/GAN_img_at_epoch_0136.png (deflated 7%)\n",
      "updating: content/GAN_pawn/GAN_img_at_epoch_0090.png (deflated 7%)\n",
      "updating: content/GAN_pawn/GAN_img_at_epoch_0139.png (deflated 7%)\n",
      "updating: content/GAN_pawn/GAN_img_at_epoch_0103.png (deflated 7%)\n",
      "updating: content/GAN_pawn/GAN_img_at_epoch_0178.png (deflated 7%)\n",
      "updating: content/GAN_pawn/GAN_img_at_epoch_0266.png (deflated 7%)\n",
      "updating: content/GAN_pawn/GAN_img_at_epoch_0275.png (deflated 7%)\n",
      "updating: content/GAN_pawn/GAN_img_at_epoch_0160.png (deflated 6%)\n",
      "updating: content/GAN_pawn/GAN_img_at_epoch_0022.png (deflated 8%)\n",
      "updating: content/GAN_pawn/GAN_img_at_epoch_0151.png (deflated 7%)\n",
      "updating: content/GAN_pawn/GAN_img_at_epoch_0032.png (deflated 4%)\n",
      "updating: content/GAN_pawn/GAN_img_at_epoch_0005.png (deflated 8%)\n",
      "updating: content/GAN_pawn/GAN_img_at_epoch_0055.png (deflated 7%)\n",
      "updating: content/GAN_pawn/GAN_img_at_epoch_0076.png (deflated 7%)\n",
      "updating: content/GAN_pawn/GAN_img_at_epoch_0135.png (deflated 6%)\n",
      "updating: content/GAN_pawn/GAN_img_at_epoch_0128.png (deflated 8%)\n",
      "updating: content/GAN_pawn/GAN_img_at_epoch_0150.png (deflated 6%)\n",
      "updating: content/GAN_pawn/GAN_img_at_epoch_0257.png (deflated 7%)\n",
      "updating: content/GAN_pawn/GAN_img_at_epoch_0040.png (deflated 5%)\n",
      "updating: content/GAN_pawn/GAN_img_at_epoch_0156.png (deflated 6%)\n",
      "updating: content/GAN_pawn/GAN_img_at_epoch_0036.png (deflated 4%)\n",
      "updating: content/GAN_pawn/GAN_img_at_epoch_0189.png (deflated 6%)\n",
      "updating: content/GAN_pawn/GAN_img_at_epoch_0165.png (deflated 7%)\n",
      "updating: content/GAN_pawn/GAN_img_at_epoch_0207.png (deflated 7%)\n",
      "updating: content/GAN_pawn/GAN_img_at_epoch_0261.png (deflated 7%)\n",
      "updating: content/GAN_pawn/GAN_img_at_epoch_0155.png (deflated 7%)\n",
      "updating: content/GAN_pawn/GAN_img_at_epoch_0228.png (deflated 7%)\n",
      "updating: content/GAN_pawn/GAN_img_at_epoch_0177.png (deflated 7%)\n",
      "updating: content/GAN_pawn/GAN_img_at_epoch_0041.png (deflated 6%)\n",
      "updating: content/GAN_pawn/GAN_img_at_epoch_0146.png (deflated 7%)\n",
      "updating: content/GAN_pawn/GAN_img_at_epoch_0184.png (deflated 7%)\n",
      "updating: content/GAN_pawn/GAN_img_at_epoch_0208.png (deflated 7%)\n",
      "updating: content/GAN_pawn/GAN_img_at_epoch_0182.png (deflated 7%)\n",
      "updating: content/GAN_pawn/GAN_img_at_epoch_0200.png (deflated 7%)\n",
      "updating: content/GAN_pawn/GAN_img_at_epoch_0048.png (deflated 6%)\n",
      "updating: content/GAN_pawn/GAN_img_at_epoch_0296.png (deflated 7%)\n",
      "updating: content/GAN_pawn/GAN_img_at_epoch_0116.png (deflated 7%)\n",
      "updating: content/GAN_pawn/GAN_img_at_epoch_0254.png (deflated 7%)\n",
      "updating: content/GAN_pawn/GAN_img_at_epoch_0271.png (deflated 7%)\n",
      "updating: content/GAN_pawn/GAN_img_at_epoch_0229.png (deflated 7%)\n",
      "updating: content/GAN_pawn/GAN_img_at_epoch_0287.png (deflated 7%)\n",
      "updating: content/GAN_pawn/GAN_img_at_epoch_0211.png (deflated 7%)\n",
      "updating: content/GAN_pawn/GAN_img_at_epoch_0012.png (deflated 9%)\n",
      "updating: content/GAN_pawn/GAN_img_at_epoch_0017.png (deflated 9%)\n",
      "updating: content/GAN_pawn/GAN_img_at_epoch_0246.png (deflated 7%)\n",
      "updating: content/GAN_pawn/GAN_img_at_epoch_0252.png (deflated 7%)\n",
      "updating: content/GAN_pawn/GAN_img_at_epoch_0019.png (deflated 8%)\n",
      "updating: content/GAN_pawn/GAN_img_at_epoch_0004.png (deflated 9%)\n",
      "updating: content/GAN_pawn/GAN_img_at_epoch_0149.png (deflated 7%)\n",
      "updating: content/GAN_pawn/GAN_img_at_epoch_0134.png (deflated 7%)\n",
      "updating: content/GAN_pawn/GAN_img_at_epoch_0163.png (deflated 7%)\n",
      "updating: content/GAN_pawn/GAN_img_at_epoch_0058.png (deflated 7%)\n",
      "updating: content/GAN_pawn/GAN_img_at_epoch_0060.png (deflated 7%)\n",
      "updating: content/GAN_pawn/GAN_img_at_epoch_0027.png (deflated 7%)\n",
      "updating: content/GAN_pawn/GAN_img_at_epoch_0216.png (deflated 7%)\n",
      "updating: content/GAN_pawn/GAN_img_at_epoch_0214.png (deflated 6%)\n",
      "updating: content/GAN_pawn/GAN_img_at_epoch_0169.png (deflated 7%)\n",
      "updating: content/GAN_pawn/GAN_img_at_epoch_0021.png (deflated 8%)\n",
      "updating: content/GAN_pawn/GAN_img_at_epoch_0219.png (deflated 7%)\n",
      "updating: content/GAN_pawn/GAN_img_at_epoch_0202.png (deflated 7%)\n",
      "updating: content/GAN_pawn/GAN_img_at_epoch_0292.png (deflated 7%)\n",
      "updating: content/GAN_pawn/GAN_img_at_epoch_0241.png (deflated 7%)\n",
      "updating: content/GAN_pawn/GAN_img_at_epoch_0251.png (deflated 7%)\n",
      "updating: content/GAN_pawn/GAN_img_at_epoch_0217.png (deflated 7%)\n",
      "updating: content/GAN_pawn/GAN_img_at_epoch_0102.png (deflated 7%)\n",
      "updating: content/GAN_pawn/GAN_img_at_epoch_0025.png (deflated 8%)\n",
      "updating: content/GAN_pawn/GAN_img_at_epoch_0029.png (deflated 5%)\n",
      "updating: content/GAN_pawn/GAN_img_at_epoch_0117.png (deflated 7%)\n",
      "updating: content/GAN_pawn/GAN_img_at_epoch_0079.png (deflated 7%)\n",
      "updating: content/GAN_pawn/GAN_img_at_epoch_0226.png (deflated 7%)\n",
      "updating: content/GAN_pawn/GAN_img_at_epoch_0108.png (deflated 7%)\n",
      "updating: content/GAN_pawn/GAN_img_at_epoch_0267.png (deflated 7%)\n",
      "updating: content/GAN_pawn/GAN_img_at_epoch_0038.png (deflated 5%)\n",
      "updating: content/GAN_pawn/GAN_img_at_epoch_0087.png (deflated 7%)\n",
      "updating: content/GAN_pawn/GAN_img_at_epoch_0273.png (deflated 7%)\n",
      "updating: content/GAN_pawn/GAN_img_at_epoch_0071.png (deflated 7%)\n",
      "updating: content/GAN_pawn/GAN_img_at_epoch_0280.png (deflated 7%)\n",
      "updating: content/GAN_pawn/GAN_img_at_epoch_0144.png (deflated 7%)\n",
      "updating: content/GAN_pawn/GAN_img_at_epoch_0218.png (deflated 7%)\n",
      "updating: content/GAN_pawn/GAN_img_at_epoch_0073.png (deflated 8%)\n",
      "updating: content/GAN_pawn/GAN_img_at_epoch_0179.png (deflated 7%)\n",
      "updating: content/GAN_pawn/GAN_img_at_epoch_0082.png (deflated 8%)\n",
      "updating: content/GAN_pawn/GAN_img_at_epoch_0020.png (deflated 8%)\n",
      "updating: content/GAN_pawn/GAN_img_at_epoch_0191.png (deflated 7%)\n",
      "updating: content/GAN_pawn/GAN_img_at_epoch_0172.png (deflated 7%)\n",
      "updating: content/GAN_pawn/GAN_img_at_epoch_0180.png (deflated 6%)\n",
      "updating: content/GAN_pawn/GAN_img_at_epoch_0291.png (deflated 7%)\n",
      "updating: content/GAN_pawn/GAN_img_at_epoch_0210.png (deflated 7%)\n",
      "updating: content/GAN_pawn/GAN_img_at_epoch_0115.png (deflated 7%)\n",
      "updating: content/GAN_pawn/GAN_img_at_epoch_0277.png (deflated 7%)\n",
      "updating: content/GAN_pawn/GAN_img_at_epoch_0283.png (deflated 7%)\n",
      "updating: content/GAN_pawn/GAN_img_at_epoch_0078.png (deflated 8%)\n",
      "updating: content/GAN_pawn/GAN_img_at_epoch_0281.png (deflated 7%)\n",
      "updating: content/GAN_pawn/GAN_img_at_epoch_0047.png (deflated 6%)\n",
      "updating: content/GAN_pawn/GAN_img_at_epoch_0175.png (deflated 7%)\n",
      "updating: content/GAN_pawn/GAN_img_at_epoch_0140.png (deflated 6%)\n",
      "updating: content/GAN_pawn/GAN_img_at_epoch_0113.png (deflated 7%)\n",
      "updating: content/GAN_pawn/GAN_img_at_epoch_0106.png (deflated 7%)\n",
      "updating: content/GAN_pawn/GAN_img_at_epoch_0286.png (deflated 7%)\n",
      "updating: content/GAN_pawn/GAN_img_at_epoch_0015.png (deflated 10%)\n",
      "updating: content/GAN_pawn/GAN_img_at_epoch_0141.png (deflated 7%)\n",
      "updating: content/GAN_pawn/GAN_img_at_epoch_0158.png (deflated 7%)\n",
      "updating: content/GAN_pawn/GAN_img_at_epoch_0033.png (deflated 4%)\n",
      "updating: content/GAN_pawn/GAN_img_at_epoch_0089.png (deflated 6%)\n",
      "updating: content/GAN_pawn/GAN_img_at_epoch_0294.png (deflated 7%)\n",
      "updating: content/GAN_pawn/GAN_img_at_epoch_0092.png (deflated 7%)\n",
      "updating: content/GAN_pawn/GAN_img_at_epoch_0293.png (deflated 7%)\n",
      "updating: content/GAN_pawn/GAN_img_at_epoch_0298.png (deflated 7%)\n",
      "updating: content/GAN_pawn/GAN_img_at_epoch_0069.png (deflated 8%)\n",
      "updating: content/GAN_pawn/GAN_img_at_epoch_0052.png (deflated 6%)\n",
      "updating: content/GAN_pawn/GAN_img_at_epoch_0114.png (deflated 7%)\n",
      "updating: content/GAN_pawn/GAN_img_at_epoch_0239.png (deflated 7%)\n",
      "updating: content/GAN_pawn/GAN_img_at_epoch_0121.png (deflated 6%)\n",
      "updating: content/GAN_pawn/GAN_img_at_epoch_0168.png (deflated 7%)\n",
      "updating: content/GAN_pawn/GAN_img_at_epoch_0159.png (deflated 7%)\n",
      "updating: content/GAN_pawn/GAN_img_at_epoch_0016.png (deflated 9%)\n",
      "updating: content/GAN_pawn/GAN_img_at_epoch_0242.png (deflated 7%)\n",
      "updating: content/GAN_pawn/GAN_img_at_epoch_0270.png (deflated 7%)\n",
      "updating: content/GAN_pawn/GAN_img_at_epoch_0007.png (deflated 8%)\n",
      "updating: content/GAN_pawn/GAN_img_at_epoch_0084.png (deflated 7%)\n",
      "updating: content/GAN_pawn/GAN_img_at_epoch_0085.png (deflated 7%)\n",
      "updating: content/GAN_pawn/GAN_img_at_epoch_0080.png (deflated 6%)\n",
      "updating: content/GAN_pawn/GAN_img_at_epoch_0279.png (deflated 7%)\n",
      "updating: content/GAN_pawn/GAN_img_at_epoch_0130.png (deflated 7%)\n",
      "updating: content/GAN_pawn/GAN_img_at_epoch_0107.png (deflated 7%)\n",
      "updating: content/GAN_pawn/GAN_img_at_epoch_0206.png (deflated 7%)\n",
      "updating: content/GAN_pawn/GAN_img_at_epoch_0143.png (deflated 7%)\n",
      "updating: content/GAN_pawn/GAN_img_at_epoch_0194.png (deflated 7%)\n",
      "updating: content/GAN_pawn/GAN_img_at_epoch_0097.png (deflated 7%)\n",
      "updating: content/GAN_pawn/GAN_img_at_epoch_0247.png (deflated 7%)\n"
     ]
    },
    {
     "data": {
      "application/javascript": [
       "\n",
       "    async function download(id, filename, size) {\n",
       "      if (!google.colab.kernel.accessAllowed) {\n",
       "        return;\n",
       "      }\n",
       "      const div = document.createElement('div');\n",
       "      const label = document.createElement('label');\n",
       "      label.textContent = `Downloading \"${filename}\": `;\n",
       "      div.appendChild(label);\n",
       "      const progress = document.createElement('progress');\n",
       "      progress.max = size;\n",
       "      div.appendChild(progress);\n",
       "      document.body.appendChild(div);\n",
       "\n",
       "      const buffers = [];\n",
       "      let downloaded = 0;\n",
       "\n",
       "      const channel = await google.colab.kernel.comms.open(id);\n",
       "      // Send a message to notify the kernel that we're ready.\n",
       "      channel.send({})\n",
       "\n",
       "      for await (const message of channel.messages) {\n",
       "        // Send a message to notify the kernel that we're ready.\n",
       "        channel.send({})\n",
       "        if (message.buffers) {\n",
       "          for (const buffer of message.buffers) {\n",
       "            buffers.push(buffer);\n",
       "            downloaded += buffer.byteLength;\n",
       "            progress.value = downloaded;\n",
       "          }\n",
       "        }\n",
       "      }\n",
       "      const blob = new Blob(buffers, {type: 'application/binary'});\n",
       "      const a = document.createElement('a');\n",
       "      a.href = window.URL.createObjectURL(blob);\n",
       "      a.download = filename;\n",
       "      div.appendChild(a);\n",
       "      a.click();\n",
       "      div.remove();\n",
       "    }\n",
       "  "
      ],
      "text/plain": [
       "<IPython.core.display.Javascript object>"
      ]
     },
     "metadata": {
      "tags": []
     },
     "output_type": "display_data"
    },
    {
     "data": {
      "application/javascript": [
       "download(\"download_4bc56c97-74e6-44de-a8c1-5e27c629f56e\", \"file.zip\", 169454886)"
      ],
      "text/plain": [
       "<IPython.core.display.Javascript object>"
      ]
     },
     "metadata": {
      "tags": []
     },
     "output_type": "display_data"
    }
   ],
   "source": [
    "# for downloading files from google collab\n",
    "!zip -r /content/file.zip /content/GAN_pawn\n",
    "from google.colab import files\n",
    "files.download(\"/content/file.zip\")"
   ]
  },
  {
   "cell_type": "code",
   "execution_count": null,
   "metadata": {
    "colab": {},
    "colab_type": "code",
    "id": "ARBu1UqSZhNe"
   },
   "outputs": [],
   "source": []
  }
 ],
 "metadata": {
  "accelerator": "GPU",
  "colab": {
   "name": "NEW_GAN_optimised.ipynb",
   "provenance": [],
   "toc_visible": true
  },
  "kernelspec": {
   "display_name": "Python 3",
   "language": "python",
   "name": "python3"
  },
  "language_info": {
   "codemirror_mode": {
    "name": "ipython",
    "version": 3
   },
   "file_extension": ".py",
   "mimetype": "text/x-python",
   "name": "python",
   "nbconvert_exporter": "python",
   "pygments_lexer": "ipython3",
   "version": "3.7.3"
  }
 },
 "nbformat": 4,
 "nbformat_minor": 1
}
